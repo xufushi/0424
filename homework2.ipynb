{
 "cells": [
  {
   "cell_type": "code",
   "execution_count": 19,
   "metadata": {},
   "outputs": [
    {
     "name": "stdout",
     "output_type": "stream",
     "text": [
      "please input a number(enter q if you want exit):3\n",
      "猜錯了\n",
      "please input a number(enter q if you want exit):6\n",
      "猜錯了\n",
      "please input a number(enter q if you want exit):8\n",
      "猜對了\n"
     ]
    }
   ],
   "source": [
    "while True:\n",
    "    number=input(\"please input a number(enter q if you want exit):\")\n",
    "    if number.isdigit():\n",
    "        if eval(number) == 8:\n",
    "            print(\"猜對了\")\n",
    "            break\n",
    "        else:\n",
    "            print(\"猜錯了\")\n",
    "        \n",
    "    elif number == 'q':       \n",
    "        break"
   ]
  },
  {
   "cell_type": "code",
   "execution_count": null,
   "metadata": {},
   "outputs": [],
   "source": []
  },
  {
   "cell_type": "code",
   "execution_count": null,
   "metadata": {},
   "outputs": [],
   "source": []
  }
 ],
 "metadata": {
  "kernelspec": {
   "display_name": "Python 3",
   "language": "python",
   "name": "python3"
  },
  "language_info": {
   "codemirror_mode": {
    "name": "ipython",
    "version": 3
   },
   "file_extension": ".py",
   "mimetype": "text/x-python",
   "name": "python",
   "nbconvert_exporter": "python",
   "pygments_lexer": "ipython3",
   "version": "3.7.3"
  }
 },
 "nbformat": 4,
 "nbformat_minor": 2
}
