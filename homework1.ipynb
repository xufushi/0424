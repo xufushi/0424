{
 "cells": [
  {
   "cell_type": "code",
   "execution_count": 2,
   "metadata": {},
   "outputs": [
    {
     "name": "stdout",
     "output_type": "stream",
     "text": [
      "please input your score:90\n",
      "優秀\n"
     ]
    }
   ],
   "source": [
    "score=input(\"please input your score:\")\n",
    "try:\n",
    "    if eval(score)>=80 :\n",
    "        print(\"優秀\")\n",
    "    elif eval(score)>=60:\n",
    "        print(\"尚可\")\n",
    "    elif eval(score)<60:\n",
    "        print(\"不及格\")\n",
    "except:\n",
    "    print(\"未知\")"
   ]
  },
  {
   "cell_type": "code",
   "execution_count": null,
   "metadata": {},
   "outputs": [],
   "source": []
  }
 ],
 "metadata": {
  "kernelspec": {
   "display_name": "Python 3",
   "language": "python",
   "name": "python3"
  },
  "language_info": {
   "codemirror_mode": {
    "name": "ipython",
    "version": 3
   },
   "file_extension": ".py",
   "mimetype": "text/x-python",
   "name": "python",
   "nbconvert_exporter": "python",
   "pygments_lexer": "ipython3",
   "version": "3.7.3"
  }
 },
 "nbformat": 4,
 "nbformat_minor": 2
}
